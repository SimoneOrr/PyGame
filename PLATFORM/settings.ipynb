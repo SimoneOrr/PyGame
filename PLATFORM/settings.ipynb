{
 "cells": [
  {
   "cell_type": "code",
   "execution_count": 1,
   "metadata": {},
   "outputs": [],
   "source": [
    "#Game settings\n",
    "TITLE = \"PLATFORM GAME\"\n",
    "WIDTH = 1400\n",
    "HEIGHT = 800\n",
    "FPS = 60\n",
    "FONT_NAME = \"arial\"\n",
    "\n",
    "#player properties\n",
    "PLAYER_ACC = 0.8\n",
    "PLAYER_FRICTION = -0.12\n",
    "PLAYER_GRAV = 0.7\n",
    "PLAYER_JUMP = -20\n",
    "HS_FILE = \"highscore.txt\"\n",
    "SPRITESHEET = \"spritesheet_jumper.png\"\n",
    "\n",
    "#runner properties\n",
    "RUNNER_ACC = -0.5\n",
    "RUNNER_FRICTION = -0.12\n",
    "RUNNER_GRAV = 0.7\n",
    "\n",
    "#Game properties\n",
    "MOB_FREQ = 3000\n",
    "\n",
    "#starting platforms (X, Y, W, H)\n",
    "PLATFORM_LIST = [(WIDTH,HEIGHT, 100, 20), \n",
    "                                (WIDTH/2,HEIGHT/2, 100, 20), \n",
    "                                (WIDTH/3,HEIGHT/3, 100, 20), \n",
    "                                (WIDTH/4,HEIGHT/4, 100, 20),\n",
    "                                (200, 100, 100, 20)]\n",
    "\n",
    "COINS_LIST = [HEIGHT-100,\n",
    "                        HEIGHT - 300, \n",
    "                        HEIGHT - 250,\n",
    "                        HEIGHT - 500]\n",
    "#colors \n",
    "WHITE = (255, 255, 255)\n",
    "BLACK = (0, 0, 0)\n",
    "RED = (255, 0, 0)\n",
    "GREEN = (0, 255, 0)\n",
    "L_BLUE = (173, 216, 230)\n",
    "BLUE = (0, 0, 255)\n",
    "YELLOW = (255, 255, 0)\n",
    "ORANGE = (255, 215, 0)\n"
   ]
  },
  {
   "cell_type": "code",
   "execution_count": null,
   "metadata": {},
   "outputs": [],
   "source": []
  }
 ],
 "metadata": {
  "kernelspec": {
   "display_name": "Python 3",
   "language": "python",
   "name": "python3"
  },
  "language_info": {
   "codemirror_mode": {
    "name": "ipython",
    "version": 3
   },
   "file_extension": ".py",
   "mimetype": "text/x-python",
   "name": "python",
   "nbconvert_exporter": "python",
   "pygments_lexer": "ipython3",
   "version": "3.8.0"
  }
 },
 "nbformat": 4,
 "nbformat_minor": 4
}
